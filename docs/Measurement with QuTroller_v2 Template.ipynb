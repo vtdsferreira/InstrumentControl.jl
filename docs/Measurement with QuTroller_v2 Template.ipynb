{
 "cells": [
  {
   "cell_type": "markdown",
   "metadata": {},
   "source": [
    "# Time Domain Measurements"
   ]
  },
  {
   "cell_type": "markdown",
   "metadata": {},
   "source": [
    "## Notes"
   ]
  },
  {
   "cell_type": "markdown",
   "metadata": {},
   "source": [
    "#### The delay (in number of digitizer samples) needed to start acquisition of I and Q signal after marker arrival at the digitizer was determined to be 125 samples = 250ns. Briefly, 20dB of attenuation after readout up-conversion, without using the on-rack 17dB amplifier (before down-conversion), was enough to obtain a 40mVpp pulse with IF amplitude = 1. This signal was then measured with the digitizer (i.e., the discrete voltage levels of the pulse), and the delay was determined to be 125 samples (250ns). The normal rack configuration (needed to reach low photon levels) uses 40dB of attenuation after up-conversion, along with a ~17dB amplifier prior to downconversion. The normal configuration leads to really noisy output (you can't make out a pulse by visual inspection of the signal), but with the demodulation to DC plus averaging, you can really pick out the IF tone"
   ]
  },
  {
   "cell_type": "markdown",
   "metadata": {},
   "source": [
    "#### We put attenuators on the XY line. Through testing, we saw that, even in the abscence of a pulse, we saw the frequency response of the cavity change in comparison to when sigXY is off AT VARIOUS FREQUENCIES. This implies carrier bleedthrough and the spectrum analyzer confirms that. To ameliorate the issue, we decreased LO power while staying within mixer spec, added attenuation after XY upconversion, and increased the AWG amplitude voltage up to the 1dB compression point of the mixer. This basically maximizes the ratio in power of the desired mixer sideband vs the LO bleedthrough while staying within mixer spec. Increasing the IF also further isolates the qubit from carrier bleedthrough. Typical attenuations range from 10dB-30dB, and depend on the coupling between the qubit and the XY line on chip. "
   ]
  },
  {
   "cell_type": "markdown",
   "metadata": {},
   "source": [
    "## Equipment Initialization"
   ]
  },
  {
   "cell_type": "code",
   "execution_count": null,
   "metadata": {
    "collapsed": true
   },
   "outputs": [],
   "source": [
    "using Revise # for module revision without restarting notebook/Julia\n",
    "using InstrumentControl\n",
    "using InstrumentControl:E5071C, GS200, SMB100A, AWGM320XA, DigitizerM3102A \n",
    "using AxisArrays\n",
    "using KeysightInstruments\n",
    "using QuTroller\n",
    "using JLD, FileIO, LsqFit\n",
    "import Plots\n",
    "Plots.plotlyjs()\n",
    "\n",
    "import InstrumentControl: Stimulus, Response, Instrument, source, measure, PropertyStimulus\n",
    "\n",
    "IQ_to_dBm(x) =  10+20*log10(abs(x)) #to be used on digitizer IQ output\n",
    "phas(x)=atan2(imag(x),real(x))"
   ]
  },
  {
   "cell_type": "markdown",
   "metadata": {},
   "source": [
    "### Yokogawa GS200 DC Source"
   ]
  },
  {
   "cell_type": "code",
   "execution_count": null,
   "metadata": {
    "collapsed": true
   },
   "outputs": [],
   "source": [
    "yoko = InsGS200(tcpip_socket(\"169.254.65.200\",7655))  #initializing instrument object\n",
    "Vz = RampStim(yoko) "
   ]
  },
  {
   "cell_type": "markdown",
   "metadata": {},
   "source": [
    "### R&S SMB100A Signal Generators"
   ]
  },
  {
   "cell_type": "code",
   "execution_count": null,
   "metadata": {
    "collapsed": true
   },
   "outputs": [],
   "source": [
    "#iinitializing signal generator instrument objects\n",
    "sigRead = InsSMB100A(tcpip_instr(\"169.254.1.20\")) \n",
    "sigXY = InsSMB100A(tcpip_instr(\"169.254.235.224\"))"
   ]
  },
  {
   "cell_type": "code",
   "execution_count": null,
   "metadata": {
    "collapsed": true
   },
   "outputs": [],
   "source": [
    "#defining stimuli for changing signal generator power and frequencies\n",
    "LOxyPower = PropertyStimulus(sigXY, PowerLevel, axisname=:xypower, axislabel=\"XY LO Power (dBm)\")\n",
    "LOxyFreq = PropertyStimulus(sigXY, Frequency, axisname=:xyf, axislabel=\"XY LO Frequency (GHz)\");\n",
    "LOreadFreq = PropertyStimulus(sigRead, Frequency, axisname=:readf, axislabel=\"Readout LO Frequency (GHz)\");\n",
    "LOreadPower = PropertyStimulus(sigRead, PowerLevel, axisname=:readoutpower, axislabel=\"Readout LO Power (dBm)\")"
   ]
  },
  {
   "cell_type": "markdown",
   "metadata": {},
   "source": [
    "### Keysight Hardware"
   ]
  },
  {
   "cell_type": "code",
   "execution_count": null,
   "metadata": {
    "collapsed": true
   },
   "outputs": [],
   "source": [
    "#The inputs to the constructors are slot numbers and chassis number\n",
    "awg3 = InsAWGM320XA(3, 0) \n",
    "awg5 = InsAWGM320XA(5, 0)\n",
    "awg7 = InsAWGM320XA(7, 0)\n",
    "dig = InsDigitizerM3102A(18, 0)"
   ]
  },
  {
   "cell_type": "markdown",
   "metadata": {},
   "source": [
    "### QuTroller Initialization"
   ]
  },
  {
   "cell_type": "code",
   "execution_count": null,
   "metadata": {
    "collapsed": true
   },
   "outputs": [],
   "source": [
    "Qcon = QuTroller.qubitController[]\n",
    "\n",
    "Q1 = Qubit(Qcon, awg3, 3, 4, \"left qubit\")\n",
    "Q2 = Qubit(Qcon, awg5, 1, 2, \"right qubit\")\n",
    "\n",
    "Qcon[RO] = (awg3, 1, 2, sigRead)\n",
    "Qcon[Marker] = (awg7, 4)\n",
    "Qcon[Digitizer] = (dig, 1, 2)\n",
    "Qcon[xyLOsource] = sigXY"
   ]
  },
  {
   "cell_type": "code",
   "execution_count": null,
   "metadata": {
    "collapsed": true
   },
   "outputs": [],
   "source": [
    "Qcon[ReadoutLength] = 500e-9\n",
    "Qcon[ReadoutIF] = 100e6\n",
    "Qcon[ReadoutPower] = 6 #in dBm\n",
    "Qcon[DecayDelay] = 30e-6\n",
    "Qcon[EndDelay] = 30e-6\n",
    "\n",
    "Qcon[Averages] = 2000\n",
    "Qcon[DigDelay] = 125 #delay between digitizer receving trigger and data acquisition, in number of samples \n",
    "Qcon[PXI] = 0\n",
    "\n",
    "Qcon[\"left qubit\", xyIF] = 100e6\n",
    "Qcon[\"left qubit\", xyAmplitude] = 0.631 #in Volts\n",
    "Qcon[\"right qubit\", xyIF] = 100e6\n",
    "Qcon[\"right qubit\", xyAmplitude] = 0.631 #in Volts"
   ]
  },
  {
   "cell_type": "code",
   "execution_count": null,
   "metadata": {
    "collapsed": true
   },
   "outputs": [],
   "source": [
    "readRef = ReadoutReference(5e-6) #input is delay between readout pulses\n",
    "_avgIQ = Avg_IQResponse(RO_IQ_Response(:TRGPort, 100e6))"
   ]
  },
  {
   "cell_type": "markdown",
   "metadata": {},
   "source": [
    "## Qubit 1 (\"left qubit\") Characterization"
   ]
  },
  {
   "cell_type": "markdown",
   "metadata": {},
   "source": [
    "### Finding Resonator Frequency"
   ]
  },
  {
   "cell_type": "code",
   "execution_count": null,
   "metadata": {
    "collapsed": true
   },
   "outputs": [],
   "source": [
    "source(readRef)\n",
    "sweep(_avgIQ, (LOreadFreq, (6.980e9:0.1e6:6.989e9)))"
   ]
  },
  {
   "cell_type": "code",
   "execution_count": null,
   "metadata": {
    "collapsed": true
   },
   "outputs": [],
   "source": [
    "r = result(6257)\n",
    "Plots.plot(axisvalues(r)[1]/1e9, IQ_to_dBm.(r), xl=\"Readout LO Frequency (GHz)\", yl=\"IF Power (dBm)\")"
   ]
  },
  {
   "cell_type": "code",
   "execution_count": null,
   "metadata": {
    "collapsed": true
   },
   "outputs": [],
   "source": [
    "Qcon[ReadoutLO] = 6.9867e9 #update LO frequency with result of sweep"
   ]
  },
  {
   "cell_type": "markdown",
   "metadata": {},
   "source": [
    "##### |0> dispersed resonator frequency:"
   ]
  },
  {
   "cell_type": "markdown",
   "metadata": {},
   "source": [
    "### Finding Qubit Frequency "
   ]
  },
  {
   "cell_type": "code",
   "execution_count": null,
   "metadata": {
    "collapsed": true
   },
   "outputs": [],
   "source": [
    "source(Rabi(\"left qubit\"), 200e-9) \n",
    "sweep(_avgIQ, (LOxyFreq, 4.65e9:0.5e6:4.9e9))"
   ]
  },
  {
   "cell_type": "code",
   "execution_count": null,
   "metadata": {
    "collapsed": true
   },
   "outputs": [],
   "source": [
    "r = result(6292)\n",
    "Plots.plot(axisvalues(r)[1]/1e9, IQ_to_dBm.(r), xl=\"XY LO Frequency (GHz)\", yl=\"IF Power (dBm)\")"
   ]
  },
  {
   "cell_type": "code",
   "execution_count": null,
   "metadata": {
    "collapsed": true
   },
   "outputs": [],
   "source": [
    "Qcon[xyLO] =  4.87e9 #update LO frequency with result of sweep"
   ]
  },
  {
   "cell_type": "markdown",
   "metadata": {},
   "source": [
    "##### Qubit frequency:"
   ]
  },
  {
   "cell_type": "markdown",
   "metadata": {},
   "source": [
    "### Finding Rabi Period"
   ]
  },
  {
   "cell_type": "code",
   "execution_count": null,
   "metadata": {
    "collapsed": true
   },
   "outputs": [],
   "source": [
    "sweep(_avgIQ, (Rabi(\"left qubit\"), 20e-9:10e-9:2e-6))"
   ]
  },
  {
   "cell_type": "code",
   "execution_count": null,
   "metadata": {
    "collapsed": true
   },
   "outputs": [],
   "source": [
    "r = result(6293)\n",
    "Plots.plot(axisvalues(r)[1]*1e9, abs.(r), xl=\"Time (ns)\", yl=\"IF Amplitude\" )"
   ]
  },
  {
   "cell_type": "markdown",
   "metadata": {},
   "source": [
    "##### Pi pulse length: "
   ]
  },
  {
   "cell_type": "markdown",
   "metadata": {},
   "source": [
    "### Chevron Pattern"
   ]
  },
  {
   "cell_type": "code",
   "execution_count": null,
   "metadata": {
    "collapsed": true
   },
   "outputs": [],
   "source": [
    "sweep(_avgIQ, (Rabi(\"left qubit\"), 20e-9:10e-9:2e-6), (LOxyFreq, 4.86e9:1e6:4.88e9))"
   ]
  },
  {
   "cell_type": "code",
   "execution_count": null,
   "metadata": {
    "collapsed": true
   },
   "outputs": [],
   "source": [
    "r = result(6239)\n",
    "Plots.heatmap(axisvalues(r)[1]*1e9, (axisvalues(r)[2] - Qcon[xyLO])/1e9, IQ_to_dBm.(r), xl=\"Pulse duration (ns)\", yl=\"XY Frequency (GHz)\")"
   ]
  },
  {
   "cell_type": "markdown",
   "metadata": {},
   "source": [
    "### Measuring T1"
   ]
  },
  {
   "cell_type": "code",
   "execution_count": null,
   "metadata": {
    "collapsed": true
   },
   "outputs": [],
   "source": [
    "Qcon[\"left qubit\", X] = 200e-9 #set up π pulse length you want for T1\n",
    "sweep(_avgIQ, (T1(\"left qubit\"), 20e-9:20e-9:20e-6))"
   ]
  },
  {
   "cell_type": "code",
   "execution_count": null,
   "metadata": {
    "collapsed": true
   },
   "outputs": [],
   "source": [
    "r = result(6308)\n",
    "Plots.plot(axisvalues(r)[1]*1e6, abs.(r), xl = \"Delay (μs)\" , yl = \"IF Amplitude\")"
   ]
  },
  {
   "cell_type": "code",
   "execution_count": null,
   "metadata": {
    "collapsed": true
   },
   "outputs": [],
   "source": [
    "Plots.plot(axisvalues(r)[1]*1e6, abs.(r), xl = \"Delay (μs)\", yl = \"IF Amplitude\", label = \"Data\")\n",
    "t1fit(x,p) = @. p[1]*exp(-x/p[2])+p[3]\n",
    "fit = curve_fit(t1fit, axisvalues(r)[1]*1e6, Float64.(abs.(r)), [0.0029, 20, 1])\n",
    "Plots.plot!(axisvalues(r)[1]*1e6, t1fit(axisvalues(r)[1]*1e6, fit.param), label = \"Fit T1 =\"*string(fit.param[2])[1:4]*\"μs\")"
   ]
  },
  {
   "cell_type": "markdown",
   "metadata": {},
   "source": [
    "### Measuring T2*"
   ]
  },
  {
   "cell_type": "code",
   "execution_count": null,
   "metadata": {
    "collapsed": true
   },
   "outputs": [],
   "source": [
    "Qcon[\"left qubit\", X_2] = 100e-9 #set up π/2 pulse length you want for Ramsey\n",
    "sweep(_avgIQ, (Ramsey(\"left qubit\"), 20e-9:20e-9:10e-6))"
   ]
  },
  {
   "cell_type": "code",
   "execution_count": null,
   "metadata": {
    "collapsed": true
   },
   "outputs": [],
   "source": [
    "r = result(6308)\n",
    "Plots.plot(axisvalues(r)[1]*1e6, abs.(r), xl = \"Delay (μs)\" , yl = \"IF Amplitude\")"
   ]
  },
  {
   "cell_type": "code",
   "execution_count": null,
   "metadata": {
    "collapsed": true
   },
   "outputs": [],
   "source": [
    "t2fit(x,p) = @. p[1]*exp(-x/p[2])*cos(x*(2π/p[3])-p[4])+p[5]\n",
    "fit = curve_fit(t2fit, axisvalues(r)[1]*1e6, Float64.(abs.(r)), [1, 1 ,1, 1, 0.00286358])\n",
    "Plots.plot(axisvalues(r)[1]*1e6, abs.(r), xl = \"Delay (ns)\" , yl = \"IF Amplitude\", label = \"Data\")\n",
    "Plots.plot!(axisvalues(r)[1]*1e6, t2fit(axisvalues(r)[1]*1e6, fit.param), label = \"Fit T2 =\"*string(fit.param[2])[1:4]*\"μs\")"
   ]
  }
 ],
 "metadata": {
  "kernelspec": {
   "display_name": "Julia 0.6.0",
   "language": "julia",
   "name": "julia-0.6"
  },
  "language_info": {
   "file_extension": ".jl",
   "mimetype": "application/julia",
   "name": "julia",
   "version": "0.6.0"
  }
 },
 "nbformat": 4,
 "nbformat_minor": 1
}
