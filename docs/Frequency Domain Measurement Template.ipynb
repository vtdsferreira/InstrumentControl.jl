{
 "cells": [
  {
   "cell_type": "code",
   "execution_count": null,
   "metadata": {
    "collapsed": true
   },
   "outputs": [],
   "source": [
    "using Revise\n",
    "using InstrumentControl\n",
    "using InstrumentControl:E5071C, GS200, SMB100A, AWGM320XA, DigitizerM3102A \n",
    "using AxisArrays\n",
    "using KeysightInstruments\n",
    "using KeysightQubits\n",
    "using JLD, FileIO, LsqFit\n",
    "import Plots\n",
    "Plots.plotlyjs()\n",
    "\n",
    "import InstrumentControl: Stimulus, Response, Instrument, source, measure, PropertyStimulus\n",
    "\n",
    "dB(x)= 20*log10(abs(x)) #to be used with VNA S params output\n",
    "phas(x)=atan2(imag(x),real(x))"
   ]
  },
  {
   "cell_type": "markdown",
   "metadata": {},
   "source": [
    "# Equipment Initialization"
   ]
  },
  {
   "cell_type": "markdown",
   "metadata": {},
   "source": [
    "### Yokogawa GS200 DC Source"
   ]
  },
  {
   "cell_type": "code",
   "execution_count": null,
   "metadata": {
    "collapsed": true
   },
   "outputs": [],
   "source": [
    "yoko = InsGS200(tcpip_socket(\"169.254.65.200\",7655))  #initializing instrument object\n",
    "Vz = RampStim(yoko) "
   ]
  },
  {
   "cell_type": "markdown",
   "metadata": {},
   "source": [
    "### R&S SMB100A Signal Generators"
   ]
  },
  {
   "cell_type": "code",
   "execution_count": null,
   "metadata": {
    "collapsed": true
   },
   "outputs": [],
   "source": [
    "#iinitializing signal generator instrument objects\n",
    "sigRead = InsSMB100A(tcpip_instr(\"169.254.1.20\")) \n",
    "sigXY = InsSMB100A(tcpip_instr(\"169.254.235.224\"))"
   ]
  },
  {
   "cell_type": "code",
   "execution_count": null,
   "metadata": {
    "collapsed": true
   },
   "outputs": [],
   "source": [
    "#defining stimuli for changing signal generator power and frequencies\n",
    "xyPowerStim = PropertyStimulus(sigXY, PowerLevel, axisname=:xypower, axislabel=\"XY power (dBm)\")\n",
    "xyFreqStim = PropertyStimulus(sigXY, Frequency, axisname=:xyf, axislabel=\"XY frequency (GHz)\");\n",
    "readFreqStim = PropertyStimulus(sigRead, Frequency, axisname=:readf, axislabel=\"Readout frequency (GHz)\");\n",
    "readPowerStim = PropertyStimulus(sigRead, PowerLevel, axisname=:readoutpower, axislabel=\"Readout power (dBm)\")"
   ]
  },
  {
   "cell_type": "markdown",
   "metadata": {},
   "source": [
    "### E5071C Vector Network Analyzer(VNA)"
   ]
  },
  {
   "cell_type": "code",
   "execution_count": null,
   "metadata": {
    "collapsed": true
   },
   "outputs": [],
   "source": [
    "vna = InsE5071C(tcpip_socket(\"169.254.61.208\",5025)) #initializing signal generator instrument object\n",
    "readavailable(vna)\n",
    "#NOTE!: THE LAST COMMAND IS SUPPOSED TO GIVE AN VI_ERROR_TMO; THAT IS JUST A BUG"
   ]
  },
  {
   "cell_type": "code",
   "execution_count": null,
   "metadata": {
    "collapsed": true
   },
   "outputs": [],
   "source": [
    "S_ParamsResponse = VNA.FrequencySweep(vna) #redefinition for convenience; this is a response object which measures S parameters \n",
    "VNAPowerStim = PropertyStimulus(vna, PowerLevel, axisname=:vnapower, axislabel=\"VNA power (dBm)\")"
   ]
  },
  {
   "cell_type": "markdown",
   "metadata": {},
   "source": [
    "# Finding Readout Resonator and Qubit Frequencies (Frequency Domain)"
   ]
  },
  {
   "cell_type": "code",
   "execution_count": null,
   "metadata": {
    "collapsed": true
   },
   "outputs": [],
   "source": [
    "#configuring VNA settings to measure S21 \n",
    "vna[TriggerSource] = :InternalTrigger\n",
    "vna[NumPoints] = 1001\n",
    "vna[IFBandwidth] = 2000.\n",
    "vna[Smoothing] = false\n",
    "vna[Averaging] = true\n",
    "vna[AveragingFactor] = 1\n",
    "vna[VNA.Parameter] = :S21\n",
    "vna[Timeout]=10000"
   ]
  },
  {
   "cell_type": "code",
   "execution_count": null,
   "metadata": {
    "collapsed": true
   },
   "outputs": [],
   "source": [
    "#imaging VNA S21 measurement at frequency range of interest --> Looking for resonator lorentzian\n",
    "vna[PowerLevel] = -55\n",
    "vna[FrequencyStart] = 6.883e9\n",
    "vna[FrequencyStop] = 6.89e9\n",
    "measure(S_ParamsResponse)\n",
    "screen(vna)"
   ]
  },
  {
   "cell_type": "code",
   "execution_count": null,
   "metadata": {
    "collapsed": true
   },
   "outputs": [],
   "source": [
    "#Saturating resonator to see transition from |0> dispersed dressed resonance to bare cavity resonance\n",
    "vna[FrequencyStart] = 6.875e9\n",
    "vna[FrequencyStop] = 6.89e9\n",
    "\n",
    "sweep(S_ParamsResponse, (VNAPowerStim, -60:5:-10))"
   ]
  },
  {
   "cell_type": "code",
   "execution_count": null,
   "metadata": {
    "collapsed": true
   },
   "outputs": [],
   "source": [
    "r = result(1)[:S21] #fill in job number here\n",
    "Plots.heatmap(axisvalues(r)[2], axisvalues(r)[1]/1e9, dB.(r), xl=\"Readout power (dBm)\", yl=\"VNA frequency (GHz)\")"
   ]
  },
  {
   "cell_type": "markdown",
   "metadata": {},
   "source": [
    "#### |0> dispersed frequency:\n",
    "#### bare cavity frequency: \n",
    "#### χ = "
   ]
  },
  {
   "cell_type": "markdown",
   "metadata": {},
   "source": [
    "### Finding SQUID Frequency Period and Zero Flux Offset, in Volts "
   ]
  },
  {
   "cell_type": "code",
   "execution_count": null,
   "metadata": {
    "collapsed": true
   },
   "outputs": [],
   "source": [
    "#Tuning qubit from max resonance to zero frequency with Z-line.If ω_r> ω_q_max, then as V_z is increased until it's... \n",
    "# half period value --> the qubit goes to zero frequency --> the detuning increases --> the dispersive shift decreases --> \n",
    "# readout resonance changes\n",
    "# If ω_r < ω_q_max, then you will see an avoided level crossing \n",
    "\n",
    "vna[PowerLevel] = -60\n",
    "vna[FrequencyStart] = 6.875e9\n",
    "vna[FrequencyStop] = 6.89e9\n",
    "\n",
    "sweep(S_ParamsResponse, (Vz, -0.8:0.025:0.8))"
   ]
  },
  {
   "cell_type": "code",
   "execution_count": null,
   "metadata": {
    "collapsed": true
   },
   "outputs": [],
   "source": [
    "r = result(2)[:S21]\n",
    "Plots.heatmap(axisvalues(r)[2], axisvalues(r)[1]/1e9, dB.(r), xl=\"Voltage Bias (V)\", yl=\"VNA frequency (GHz)\")"
   ]
  },
  {
   "cell_type": "markdown",
   "metadata": {},
   "source": [
    "#### V_offset = \n",
    "#### V_period = "
   ]
  },
  {
   "cell_type": "markdown",
   "metadata": {
    "collapsed": true
   },
   "source": [
    "### Finding Qubit Frequency"
   ]
  },
  {
   "cell_type": "code",
   "execution_count": null,
   "metadata": {
    "collapsed": true
   },
   "outputs": [],
   "source": [
    "# measuring S21, in the vicinity of the readout resonator |0> dispersed frequency, while sweeping XY frequency with the... \n",
    "#... signal generator. If sigXY[Frequency] = qubit frequency, the qubit is Rabi oscillating so fast compared to Ω that... \n",
    "#... the resonator only sees an average of the two qubit states, i.e. motional averaging\n",
    "vna[PowerLevel] = -60\n",
    "vna[FrequencyStart] = 6.880e9\n",
    "vna[FrequencyStop] = 6.888e9\n",
    "source(V_z, 0.025) #source voltage offset so qubit is at maximum frequency\n",
    "\n",
    "sweep(S_ParamsResponse, (xyFreqStim, 4.2e9:1e6:5.2e9), (xyPowerStim, [-20, -30, -40, -50]))"
   ]
  },
  {
   "cell_type": "code",
   "execution_count": null,
   "metadata": {
    "collapsed": true
   },
   "outputs": [],
   "source": [
    "# -20dBm power\n",
    "r = result(6058)[Axis{:sparam}(:S21), Axis{:xypower}(1)]\n",
    "Plots.heatmap(axisvalues(r)[2]/1e9, axisvalues(r)[1]/1e9, dB.(r), xl=\"XY frequency (GHz)\", yl=\"VNA frequency (GHz)\")"
   ]
  },
  {
   "cell_type": "code",
   "execution_count": null,
   "metadata": {
    "collapsed": true
   },
   "outputs": [],
   "source": [
    "#-30dBm Power\n",
    "r = result(6057)[Axis{:sparam}(:S21), Axis{:xypower}(2)]\n",
    "Plots.heatmap(axisvalues(r)[2]/1e9, axisvalues(r)[1]/1e9, dB.(r), xl=\"XY frequency (GHz)\", yl=\"VNA frequency (GHz)\")"
   ]
  },
  {
   "cell_type": "code",
   "execution_count": null,
   "metadata": {
    "collapsed": true
   },
   "outputs": [],
   "source": [
    "#-40dBm Power\n",
    "r = result(6057)[Axis{:sparam}(:S21), Axis{:xypower}(3)]\n",
    "Plots.heatmap(axisvalues(r)[2]/1e9, axisvalues(r)[1]/1e9, dB.(r), xl=\"XY frequency (GHz)\", yl=\"VNA frequency (GHz)\")"
   ]
  },
  {
   "cell_type": "code",
   "execution_count": null,
   "metadata": {
    "collapsed": true
   },
   "outputs": [],
   "source": [
    "# -50dBm power\n",
    "r = result(6057)[Axis{:sparam}(:S21), Axis{:xypower}(4)]\n",
    "Plots.heatmap(axisvalues(r)[2]/1e9, axisvalues(r)[1]/1e9, dB.(r), xl=\"XY frequency (GHz)\", yl=\"VNA frequency (GHz)\")"
   ]
  }
 ],
 "metadata": {
  "kernelspec": {
   "display_name": "Julia 0.6.0",
   "language": "julia",
   "name": "julia-0.6"
  },
  "language_info": {
   "file_extension": ".jl",
   "mimetype": "application/julia",
   "name": "julia",
   "version": "0.6.0"
  }
 },
 "nbformat": 4,
 "nbformat_minor": 1
}
